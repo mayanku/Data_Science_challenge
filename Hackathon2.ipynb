{
 "cells": [
  {
   "cell_type": "code",
   "execution_count": 1,
   "metadata": {},
   "outputs": [],
   "source": [
    "#data analysis and wrangling\n",
    "import numpy as np\n",
    "import pandas as pd\n",
    "\n",
    "# visualization\n",
    "import seaborn as sns\n",
    "import matplotlib.pyplot as plt\n",
    "%matplotlib inline\n",
    "\n",
    "# machine learning\n",
    "from sklearn.linear_model import LogisticRegression\n",
    "from sklearn.svm import SVC, LinearSVC\n",
    "from sklearn.ensemble import RandomForestClassifier\n",
    "from sklearn.neighbors import KNeighborsClassifier\n",
    "from sklearn.naive_bayes import GaussianNB\n",
    "from sklearn.linear_model import Perceptron\n",
    "from sklearn.linear_model import SGDClassifier\n",
    "from sklearn.tree import DecisionTreeClassifier"
   ]
  },
  {
   "cell_type": "code",
   "execution_count": 2,
   "metadata": {},
   "outputs": [],
   "source": [
    "# Loading train and test data\n",
    "df_train= pd.read_csv('C:/Users/Mayank/Downloads/4eddd640-9-dataset/dataset/train.csv')\n",
    "df_test=pd.read_csv('C:/Users/Mayank/Downloads/4eddd640-9-dataset/dataset/test.csv')"
   ]
  },
  {
   "cell_type": "code",
   "execution_count": 13,
   "metadata": {},
   "outputs": [
    {
     "data": {
      "text/html": [
       "<div>\n",
       "<style scoped>\n",
       "    .dataframe tbody tr th:only-of-type {\n",
       "        vertical-align: middle;\n",
       "    }\n",
       "\n",
       "    .dataframe tbody tr th {\n",
       "        vertical-align: top;\n",
       "    }\n",
       "\n",
       "    .dataframe thead th {\n",
       "        text-align: right;\n",
       "    }\n",
       "</style>\n",
       "<table border=\"1\" class=\"dataframe\">\n",
       "  <thead>\n",
       "    <tr style=\"text-align: right;\">\n",
       "      <th></th>\n",
       "      <th>Inv_Id</th>\n",
       "      <th>Vendor_Code</th>\n",
       "      <th>GL_Code</th>\n",
       "      <th>Inv_Amt</th>\n",
       "      <th>Item_Description</th>\n",
       "      <th>Product_Category</th>\n",
       "      <th>item_description1</th>\n",
       "      <th>item_description2</th>\n",
       "    </tr>\n",
       "  </thead>\n",
       "  <tbody>\n",
       "    <tr>\n",
       "      <th>0</th>\n",
       "      <td>1</td>\n",
       "      <td>VENDOR-61</td>\n",
       "      <td>GL-6050100</td>\n",
       "      <td>6.973473</td>\n",
       "      <td>AETNA VARIABLE FUND - Apr-2002 - Store Managem...</td>\n",
       "      <td>CLASS-784</td>\n",
       "      <td>AETNA VARIABLE FUND</td>\n",
       "      <td>Store Management Real Estate Real Estate Serv...</td>\n",
       "    </tr>\n",
       "    <tr>\n",
       "      <th>1</th>\n",
       "      <td>2</td>\n",
       "      <td>VENDOR-61</td>\n",
       "      <td>GL-6050100</td>\n",
       "      <td>25.053841</td>\n",
       "      <td>AETNA VARIABLE FUND - Nov-2000 - Store Managem...</td>\n",
       "      <td>CLASS-784</td>\n",
       "      <td>AETNA VARIABLE FUND</td>\n",
       "      <td>Store Management Real Estate Real Estate Serv...</td>\n",
       "    </tr>\n",
       "    <tr>\n",
       "      <th>2</th>\n",
       "      <td>3</td>\n",
       "      <td>VENDOR-449</td>\n",
       "      <td>GL-6050100</td>\n",
       "      <td>53.573737</td>\n",
       "      <td>FAIRCHILD CORP - Nov-2001 - Store Management R...</td>\n",
       "      <td>CLASS-784</td>\n",
       "      <td>AETNA VARIABLE FUND</td>\n",
       "      <td>Store Management Real Estate Real Estate Serv...</td>\n",
       "    </tr>\n",
       "    <tr>\n",
       "      <th>3</th>\n",
       "      <td>4</td>\n",
       "      <td>VENDOR-682</td>\n",
       "      <td>GL-6050100</td>\n",
       "      <td>67.388827</td>\n",
       "      <td>CALIFORNIA REAL ESTATE INVESTMENT TRUST - Aug-...</td>\n",
       "      <td>CLASS-784</td>\n",
       "      <td>AETNA VARIABLE FUND</td>\n",
       "      <td>Store Management Real Estate Real Estate Serv...</td>\n",
       "    </tr>\n",
       "    <tr>\n",
       "      <th>4</th>\n",
       "      <td>5</td>\n",
       "      <td>VENDOR-682</td>\n",
       "      <td>GL-6050100</td>\n",
       "      <td>74.262047</td>\n",
       "      <td>CALIFORNIA REAL ESTATE INVESTMENT TRUST - Mar-...</td>\n",
       "      <td>CLASS-784</td>\n",
       "      <td>AETNA VARIABLE FUND</td>\n",
       "      <td>Store Management Real Estate Real Estate Serv...</td>\n",
       "    </tr>\n",
       "  </tbody>\n",
       "</table>\n",
       "</div>"
      ],
      "text/plain": [
       "   Inv_Id Vendor_Code     GL_Code    Inv_Amt  \\\n",
       "0       1   VENDOR-61  GL-6050100   6.973473   \n",
       "1       2   VENDOR-61  GL-6050100  25.053841   \n",
       "2       3  VENDOR-449  GL-6050100  53.573737   \n",
       "3       4  VENDOR-682  GL-6050100  67.388827   \n",
       "4       5  VENDOR-682  GL-6050100  74.262047   \n",
       "\n",
       "                                    Item_Description Product_Category  \\\n",
       "0  AETNA VARIABLE FUND - Apr-2002 - Store Managem...        CLASS-784   \n",
       "1  AETNA VARIABLE FUND - Nov-2000 - Store Managem...        CLASS-784   \n",
       "2  FAIRCHILD CORP - Nov-2001 - Store Management R...        CLASS-784   \n",
       "3  CALIFORNIA REAL ESTATE INVESTMENT TRUST - Aug-...        CLASS-784   \n",
       "4  CALIFORNIA REAL ESTATE INVESTMENT TRUST - Mar-...        CLASS-784   \n",
       "\n",
       "      item_description1                                  item_description2  \n",
       "0  AETNA VARIABLE FUND    Store Management Real Estate Real Estate Serv...  \n",
       "1  AETNA VARIABLE FUND    Store Management Real Estate Real Estate Serv...  \n",
       "2  AETNA VARIABLE FUND    Store Management Real Estate Real Estate Serv...  \n",
       "3  AETNA VARIABLE FUND    Store Management Real Estate Real Estate Serv...  \n",
       "4  AETNA VARIABLE FUND    Store Management Real Estate Real Estate Serv...  "
      ]
     },
     "execution_count": 13,
     "metadata": {},
     "output_type": "execute_result"
    }
   ],
   "source": [
    "#checking train data\n",
    "df_train.head()"
   ]
  },
  {
   "cell_type": "code",
   "execution_count": 4,
   "metadata": {},
   "outputs": [
    {
     "data": {
      "text/html": [
       "<div>\n",
       "<style scoped>\n",
       "    .dataframe tbody tr th:only-of-type {\n",
       "        vertical-align: middle;\n",
       "    }\n",
       "\n",
       "    .dataframe tbody tr th {\n",
       "        vertical-align: top;\n",
       "    }\n",
       "\n",
       "    .dataframe thead th {\n",
       "        text-align: right;\n",
       "    }\n",
       "</style>\n",
       "<table border=\"1\" class=\"dataframe\">\n",
       "  <thead>\n",
       "    <tr style=\"text-align: right;\">\n",
       "      <th></th>\n",
       "      <th>Inv_Id</th>\n",
       "      <th>Vendor_Code</th>\n",
       "      <th>GL_Code</th>\n",
       "      <th>Inv_Amt</th>\n",
       "      <th>Item_Description</th>\n",
       "    </tr>\n",
       "  </thead>\n",
       "  <tbody>\n",
       "    <tr>\n",
       "      <th>0</th>\n",
       "      <td>6</td>\n",
       "      <td>VENDOR-1197</td>\n",
       "      <td>GL-6050100</td>\n",
       "      <td>10.916343</td>\n",
       "      <td>DESOTO INC - Jul-2008 - Store Management Real ...</td>\n",
       "    </tr>\n",
       "    <tr>\n",
       "      <th>1</th>\n",
       "      <td>12</td>\n",
       "      <td>VENDOR-792</td>\n",
       "      <td>GL-6050100</td>\n",
       "      <td>38.658772</td>\n",
       "      <td>CENTURY REALTY TRUST - Nov-2019 - Store Manage...</td>\n",
       "    </tr>\n",
       "    <tr>\n",
       "      <th>2</th>\n",
       "      <td>14</td>\n",
       "      <td>VENDOR-792</td>\n",
       "      <td>GL-6050100</td>\n",
       "      <td>46.780476</td>\n",
       "      <td>CENTURY REALTY TRUST - Jan-2006 - Store Manage...</td>\n",
       "    </tr>\n",
       "    <tr>\n",
       "      <th>3</th>\n",
       "      <td>18</td>\n",
       "      <td>VENDOR-792</td>\n",
       "      <td>GL-6050100</td>\n",
       "      <td>7.058866</td>\n",
       "      <td>CENTURY REALTY TRUST - Sep-2002 - Store Manage...</td>\n",
       "    </tr>\n",
       "    <tr>\n",
       "      <th>4</th>\n",
       "      <td>19</td>\n",
       "      <td>VENDOR-792</td>\n",
       "      <td>GL-6050100</td>\n",
       "      <td>32.931765</td>\n",
       "      <td>CENTURY REALTY TRUST - Nov-2018 - Store Manage...</td>\n",
       "    </tr>\n",
       "  </tbody>\n",
       "</table>\n",
       "</div>"
      ],
      "text/plain": [
       "   Inv_Id  Vendor_Code     GL_Code    Inv_Amt  \\\n",
       "0       6  VENDOR-1197  GL-6050100  10.916343   \n",
       "1      12   VENDOR-792  GL-6050100  38.658772   \n",
       "2      14   VENDOR-792  GL-6050100  46.780476   \n",
       "3      18   VENDOR-792  GL-6050100   7.058866   \n",
       "4      19   VENDOR-792  GL-6050100  32.931765   \n",
       "\n",
       "                                    Item_Description  \n",
       "0  DESOTO INC - Jul-2008 - Store Management Real ...  \n",
       "1  CENTURY REALTY TRUST - Nov-2019 - Store Manage...  \n",
       "2  CENTURY REALTY TRUST - Jan-2006 - Store Manage...  \n",
       "3  CENTURY REALTY TRUST - Sep-2002 - Store Manage...  \n",
       "4  CENTURY REALTY TRUST - Nov-2018 - Store Manage...  "
      ]
     },
     "execution_count": 4,
     "metadata": {},
     "output_type": "execute_result"
    }
   ],
   "source": [
    "#checking test data\n",
    "df_test.head()"
   ]
  },
  {
   "cell_type": "markdown",
   "metadata": {},
   "source": [
    "We have to predict the <b> Product Category</b> "
   ]
  },
  {
   "cell_type": "markdown",
   "metadata": {},
   "source": [
    "We will look at different features. First let us look at different <b> product categories</b>"
   ]
  },
  {
   "cell_type": "code",
   "execution_count": 5,
   "metadata": {},
   "outputs": [
    {
     "data": {
      "text/plain": [
       "array(['CLASS-784', 'CLASS-489', 'CLASS-913', 'CLASS-368', 'CLASS-816',\n",
       "       'CLASS-629', 'CLASS-177', 'CLASS-123', 'CLASS-671', 'CLASS-804',\n",
       "       'CLASS-453', 'CLASS-1042', 'CLASS-95', 'CLASS-49', 'CLASS-947',\n",
       "       'CLASS-110', 'CLASS-278', 'CLASS-522', 'CLASS-606', 'CLASS-651',\n",
       "       'CLASS-765', 'CLASS-953', 'CLASS-839', 'CLASS-668', 'CLASS-758',\n",
       "       'CLASS-942', 'CLASS-764', 'CLASS-50', 'CLASS-51', 'CLASS-559',\n",
       "       'CLASS-75', 'CLASS-74', 'CLASS-783', 'CLASS-323', 'CLASS-322',\n",
       "       'CLASS-720', 'CLASS-230', 'CLASS-571'], dtype=object)"
      ]
     },
     "execution_count": 5,
     "metadata": {},
     "output_type": "execute_result"
    }
   ],
   "source": [
    "df_train['Product_Category'].unique()"
   ]
  },
  {
   "cell_type": "code",
   "execution_count": 6,
   "metadata": {},
   "outputs": [
    {
     "data": {
      "text/plain": [
       "38"
      ]
     },
     "execution_count": 6,
     "metadata": {},
     "output_type": "execute_result"
    }
   ],
   "source": [
    "len(df_train['Product_Category'].unique())"
   ]
  },
  {
   "cell_type": "markdown",
   "metadata": {},
   "source": [
    "There are 38 categories of products.<br>\n",
    "Let us analyze Item_description. It looks it has more information."
   ]
  },
  {
   "cell_type": "code",
   "execution_count": 7,
   "metadata": {},
   "outputs": [
    {
     "data": {
      "text/plain": [
       "5118"
      ]
     },
     "execution_count": 7,
     "metadata": {},
     "output_type": "execute_result"
    }
   ],
   "source": [
    "len(df_train['Item_Description'].unique()) #Thats a lot of unique values"
   ]
  },
  {
   "cell_type": "code",
   "execution_count": 8,
   "metadata": {},
   "outputs": [
    {
     "data": {
      "text/plain": [
       "0    AETNA VARIABLE FUND - Apr-2002 - Store Managem...\n",
       "1    AETNA VARIABLE FUND - Nov-2000 - Store Managem...\n",
       "2    FAIRCHILD CORP - Nov-2001 - Store Management R...\n",
       "3    CALIFORNIA REAL ESTATE INVESTMENT TRUST - Aug-...\n",
       "4    CALIFORNIA REAL ESTATE INVESTMENT TRUST - Mar-...\n",
       "Name: Item_Description, dtype: object"
      ]
     },
     "execution_count": 8,
     "metadata": {},
     "output_type": "execute_result"
    }
   ],
   "source": [
    "df_train['Item_Description'].head() # We can break this and introduce more parameters for prediction"
   ]
  },
  {
   "cell_type": "code",
   "execution_count": 9,
   "metadata": {},
   "outputs": [
    {
     "data": {
      "text/plain": [
       "['AETNA VARIABLE FUND ',\n",
       " ' Nov',\n",
       " '2000 ',\n",
       " ' Store Management Real Estate Real Estate Services Real Estate General (Search, Appraisal, Realtor Commission)']"
      ]
     },
     "execution_count": 9,
     "metadata": {},
     "output_type": "execute_result"
    }
   ],
   "source": [
    "df_train['Item_Description'][1].split(\"-\")"
   ]
  },
  {
   "cell_type": "code",
   "execution_count": 12,
   "metadata": {},
   "outputs": [],
   "source": [
    "#Let us create two new columns item_description1 and item_description2 from information from item_description\n",
    "df_train['item_description1']=df_train['Item_Description'][1].split(\"-\")[0]\n",
    "df_train['item_description2']=df_train['Item_Description'][1].split(\"-\")[3]"
   ]
  },
  {
   "cell_type": "code",
   "execution_count": 14,
   "metadata": {},
   "outputs": [
    {
     "name": "stderr",
     "output_type": "stream",
     "text": [
      "C:\\Users\\Mayank\\Anaconda3\\lib\\site-packages\\ipykernel_launcher.py:3: SettingWithCopyWarning: \n",
      "A value is trying to be set on a copy of a slice from a DataFrame\n",
      "\n",
      "See the caveats in the documentation: http://pandas.pydata.org/pandas-docs/stable/indexing.html#indexing-view-versus-copy\n",
      "  This is separate from the ipykernel package so we can avoid doing imports until\n"
     ]
    }
   ],
   "source": [
    "#set each column\n",
    "for i in range(0,len(df_train)):\n",
    "    df_train['item_description1'][i] = df_train['Item_Description'][i].split(\"-\")[0]"
   ]
  },
  {
   "cell_type": "code",
   "execution_count": 15,
   "metadata": {},
   "outputs": [
    {
     "name": "stderr",
     "output_type": "stream",
     "text": [
      "C:\\Users\\Mayank\\Anaconda3\\lib\\site-packages\\ipykernel_launcher.py:2: SettingWithCopyWarning: \n",
      "A value is trying to be set on a copy of a slice from a DataFrame\n",
      "\n",
      "See the caveats in the documentation: http://pandas.pydata.org/pandas-docs/stable/indexing.html#indexing-view-versus-copy\n",
      "  \n"
     ]
    }
   ],
   "source": [
    "for i in range(0,len(df_train)):\n",
    "    df_train['item_description2'][i] = df_train['Item_Description'][i].split(\"-\")[3]"
   ]
  },
  {
   "cell_type": "code",
   "execution_count": 17,
   "metadata": {},
   "outputs": [
    {
     "data": {
      "text/html": [
       "<div>\n",
       "<style scoped>\n",
       "    .dataframe tbody tr th:only-of-type {\n",
       "        vertical-align: middle;\n",
       "    }\n",
       "\n",
       "    .dataframe tbody tr th {\n",
       "        vertical-align: top;\n",
       "    }\n",
       "\n",
       "    .dataframe thead th {\n",
       "        text-align: right;\n",
       "    }\n",
       "</style>\n",
       "<table border=\"1\" class=\"dataframe\">\n",
       "  <thead>\n",
       "    <tr style=\"text-align: right;\">\n",
       "      <th></th>\n",
       "      <th>Inv_Id</th>\n",
       "      <th>Vendor_Code</th>\n",
       "      <th>GL_Code</th>\n",
       "      <th>Inv_Amt</th>\n",
       "      <th>Item_Description</th>\n",
       "      <th>Product_Category</th>\n",
       "      <th>item_description1</th>\n",
       "      <th>item_description2</th>\n",
       "    </tr>\n",
       "  </thead>\n",
       "  <tbody>\n",
       "    <tr>\n",
       "      <th>5714</th>\n",
       "      <td>8007</td>\n",
       "      <td>VENDOR-401</td>\n",
       "      <td>GL-6121905</td>\n",
       "      <td>89.409831</td>\n",
       "      <td>BAGDAD CHASE INC - Jul-2001 - Printed Collater...</td>\n",
       "      <td>CLASS-571</td>\n",
       "      <td>BAGDAD CHASE INC</td>\n",
       "      <td>Printed Collateral Miscellaneous Printed Mate...</td>\n",
       "    </tr>\n",
       "    <tr>\n",
       "      <th>5715</th>\n",
       "      <td>8008</td>\n",
       "      <td>VENDOR-401</td>\n",
       "      <td>GL-6121905</td>\n",
       "      <td>35.066517</td>\n",
       "      <td>BAGDAD CHASE INC - May-2003 - Printed Collater...</td>\n",
       "      <td>CLASS-571</td>\n",
       "      <td>BAGDAD CHASE INC</td>\n",
       "      <td>Printed Collateral Miscellaneous Printed Mate...</td>\n",
       "    </tr>\n",
       "    <tr>\n",
       "      <th>5716</th>\n",
       "      <td>8009</td>\n",
       "      <td>VENDOR-1550</td>\n",
       "      <td>GL-6121905</td>\n",
       "      <td>51.270765</td>\n",
       "      <td>FIFTH AVENUE SECURITIES CORP - Mar-2019 - Prin...</td>\n",
       "      <td>CLASS-571</td>\n",
       "      <td>FIFTH AVENUE SECURITIES CORP</td>\n",
       "      <td>Printed Collateral Miscellaneous Printed Mate...</td>\n",
       "    </tr>\n",
       "    <tr>\n",
       "      <th>5717</th>\n",
       "      <td>8011</td>\n",
       "      <td>VENDOR-698</td>\n",
       "      <td>GL-6121905</td>\n",
       "      <td>42.693898</td>\n",
       "      <td>CANADA DRY BOTTLING CO OF FLORIDA INC - Mar-20...</td>\n",
       "      <td>CLASS-571</td>\n",
       "      <td>CANADA DRY BOTTLING CO OF FLORIDA INC</td>\n",
       "      <td>Printed Collateral Miscellaneous Printed Mate...</td>\n",
       "    </tr>\n",
       "    <tr>\n",
       "      <th>5718</th>\n",
       "      <td>8012</td>\n",
       "      <td>VENDOR-698</td>\n",
       "      <td>GL-6121905</td>\n",
       "      <td>99.841762</td>\n",
       "      <td>CANADA DRY BOTTLING CO OF FLORIDA INC - Jun-20...</td>\n",
       "      <td>CLASS-571</td>\n",
       "      <td>CANADA DRY BOTTLING CO OF FLORIDA INC</td>\n",
       "      <td>Printed Collateral Miscellaneous Printed Mate...</td>\n",
       "    </tr>\n",
       "  </tbody>\n",
       "</table>\n",
       "</div>"
      ],
      "text/plain": [
       "      Inv_Id  Vendor_Code     GL_Code    Inv_Amt  \\\n",
       "5714    8007   VENDOR-401  GL-6121905  89.409831   \n",
       "5715    8008   VENDOR-401  GL-6121905  35.066517   \n",
       "5716    8009  VENDOR-1550  GL-6121905  51.270765   \n",
       "5717    8011   VENDOR-698  GL-6121905  42.693898   \n",
       "5718    8012   VENDOR-698  GL-6121905  99.841762   \n",
       "\n",
       "                                       Item_Description Product_Category  \\\n",
       "5714  BAGDAD CHASE INC - Jul-2001 - Printed Collater...        CLASS-571   \n",
       "5715  BAGDAD CHASE INC - May-2003 - Printed Collater...        CLASS-571   \n",
       "5716  FIFTH AVENUE SECURITIES CORP - Mar-2019 - Prin...        CLASS-571   \n",
       "5717  CANADA DRY BOTTLING CO OF FLORIDA INC - Mar-20...        CLASS-571   \n",
       "5718  CANADA DRY BOTTLING CO OF FLORIDA INC - Jun-20...        CLASS-571   \n",
       "\n",
       "                           item_description1  \\\n",
       "5714                       BAGDAD CHASE INC    \n",
       "5715                       BAGDAD CHASE INC    \n",
       "5716           FIFTH AVENUE SECURITIES CORP    \n",
       "5717  CANADA DRY BOTTLING CO OF FLORIDA INC    \n",
       "5718  CANADA DRY BOTTLING CO OF FLORIDA INC    \n",
       "\n",
       "                                      item_description2  \n",
       "5714   Printed Collateral Miscellaneous Printed Mate...  \n",
       "5715   Printed Collateral Miscellaneous Printed Mate...  \n",
       "5716   Printed Collateral Miscellaneous Printed Mate...  \n",
       "5717   Printed Collateral Miscellaneous Printed Mate...  \n",
       "5718   Printed Collateral Miscellaneous Printed Mate...  "
      ]
     },
     "execution_count": 17,
     "metadata": {},
     "output_type": "execute_result"
    }
   ],
   "source": [
    "df_train.tail()"
   ]
  },
  {
   "cell_type": "code",
   "execution_count": 18,
   "metadata": {},
   "outputs": [],
   "source": [
    "#unique values item description1 and description2\n",
    "des1_unique=df_train['item_description1'].unique()\n",
    "des2_unique=df_train['item_description2'].unique()"
   ]
  },
  {
   "cell_type": "code",
   "execution_count": 29,
   "metadata": {},
   "outputs": [],
   "source": [
    "len_des1=len(des1_unique)\n",
    "len_des2=len(des2_unique)"
   ]
  },
  {
   "cell_type": "code",
   "execution_count": 19,
   "metadata": {},
   "outputs": [],
   "source": [
    "gl_code_unique=df_train['GL_Code'].unique()"
   ]
  },
  {
   "cell_type": "code",
   "execution_count": 20,
   "metadata": {},
   "outputs": [],
   "source": [
    "vendor_unique=df_train['Vendor_Code'].unique()"
   ]
  },
  {
   "cell_type": "code",
   "execution_count": 21,
   "metadata": {},
   "outputs": [
    {
     "data": {
      "text/plain": [
       "<matplotlib.axes._subplots.AxesSubplot at 0x23f8c020208>"
      ]
     },
     "execution_count": 21,
     "metadata": {},
     "output_type": "execute_result"
    },
    {
     "data": {
      "image/png": "[encoded data removed]",
      "text/plain": [
       "<Figure size 432x288 with 1 Axes>"
      ]
     },
     "metadata": {
      "needs_background": "light"
     },
     "output_type": "display_data"
    }
   ],
   "source": [
    "sns.boxplot(x='Product_Category', y='Inv_Amt', data=df_train,width=0.5)"
   ]
  },
  {
   "cell_type": "markdown",
   "metadata": {},
   "source": [
    "We need to convert categorical values to float values to make data ready for prediction"
   ]
  },
  {
   "cell_type": "code",
   "execution_count": 22,
   "metadata": {},
   "outputs": [],
   "source": [
    "df_train['GL_Code']=df_train['GL_Code'].replace(gl_code_unique[0],0)\n",
    "df_train['GL_Code']=df_train['GL_Code'].replace(gl_code_unique[1],1)\n",
    "df_train['GL_Code']=df_train['GL_Code'].replace(gl_code_unique[2],2)\n",
    "df_train['GL_Code']=df_train['GL_Code'].replace(gl_code_unique[3],3)\n",
    "df_train['GL_Code']=df_train['GL_Code'].replace(gl_code_unique[4],4)\n",
    "df_train['GL_Code']=df_train['GL_Code'].replace(gl_code_unique[5],5)\n",
    "df_train['GL_Code']=df_train['GL_Code'].replace(gl_code_unique[6],6)\n",
    "df_train['GL_Code']=df_train['GL_Code'].replace(gl_code_unique[7],7)\n",
    "df_train['GL_Code']=df_train['GL_Code'].replace(gl_code_unique[8],8)\n"
   ]
  },
  {
   "cell_type": "code",
   "execution_count": 24,
   "metadata": {},
   "outputs": [],
   "source": [
    "for i in range(len(vendor_unique)):\n",
    "    df_train['Vendor_Code']=df_train['Vendor_Code'].replace(vendor_unique[i],i)\n",
    "for j in range(len(des2_unique)):\n",
    "    df_train['item_description2']=df_train['item_description2'].replace(des2_unique[j],j)\n",
    "for k in range(len(des1_unique)):\n",
    "    df_train['item_description1']=df_train['item_description1'].replace(des1_unique[k],k)"
   ]
  },
  {
   "cell_type": "code",
   "execution_count": 26,
   "metadata": {},
   "outputs": [
    {
     "data": {
      "text/html": [
       "<div>\n",
       "<style scoped>\n",
       "    .dataframe tbody tr th:only-of-type {\n",
       "        vertical-align: middle;\n",
       "    }\n",
       "\n",
       "    .dataframe tbody tr th {\n",
       "        vertical-align: top;\n",
       "    }\n",
       "\n",
       "    .dataframe thead th {\n",
       "        text-align: right;\n",
       "    }\n",
       "</style>\n",
       "<table border=\"1\" class=\"dataframe\">\n",
       "  <thead>\n",
       "    <tr style=\"text-align: right;\">\n",
       "      <th></th>\n",
       "      <th>Inv_Id</th>\n",
       "      <th>Vendor_Code</th>\n",
       "      <th>GL_Code</th>\n",
       "      <th>Inv_Amt</th>\n",
       "      <th>Item_Description</th>\n",
       "      <th>Product_Category</th>\n",
       "      <th>item_description1</th>\n",
       "      <th>item_description2</th>\n",
       "    </tr>\n",
       "  </thead>\n",
       "  <tbody>\n",
       "    <tr>\n",
       "      <th>0</th>\n",
       "      <td>1</td>\n",
       "      <td>0</td>\n",
       "      <td>0</td>\n",
       "      <td>6.973473</td>\n",
       "      <td>AETNA VARIABLE FUND - Apr-2002 - Store Managem...</td>\n",
       "      <td>CLASS-784</td>\n",
       "      <td>0</td>\n",
       "      <td>0</td>\n",
       "    </tr>\n",
       "    <tr>\n",
       "      <th>1</th>\n",
       "      <td>2</td>\n",
       "      <td>0</td>\n",
       "      <td>0</td>\n",
       "      <td>25.053841</td>\n",
       "      <td>AETNA VARIABLE FUND - Nov-2000 - Store Managem...</td>\n",
       "      <td>CLASS-784</td>\n",
       "      <td>0</td>\n",
       "      <td>0</td>\n",
       "    </tr>\n",
       "    <tr>\n",
       "      <th>2</th>\n",
       "      <td>3</td>\n",
       "      <td>1</td>\n",
       "      <td>0</td>\n",
       "      <td>53.573737</td>\n",
       "      <td>FAIRCHILD CORP - Nov-2001 - Store Management R...</td>\n",
       "      <td>CLASS-784</td>\n",
       "      <td>1</td>\n",
       "      <td>0</td>\n",
       "    </tr>\n",
       "    <tr>\n",
       "      <th>3</th>\n",
       "      <td>4</td>\n",
       "      <td>2</td>\n",
       "      <td>0</td>\n",
       "      <td>67.388827</td>\n",
       "      <td>CALIFORNIA REAL ESTATE INVESTMENT TRUST - Aug-...</td>\n",
       "      <td>CLASS-784</td>\n",
       "      <td>2</td>\n",
       "      <td>0</td>\n",
       "    </tr>\n",
       "    <tr>\n",
       "      <th>4</th>\n",
       "      <td>5</td>\n",
       "      <td>2</td>\n",
       "      <td>0</td>\n",
       "      <td>74.262047</td>\n",
       "      <td>CALIFORNIA REAL ESTATE INVESTMENT TRUST - Mar-...</td>\n",
       "      <td>CLASS-784</td>\n",
       "      <td>2</td>\n",
       "      <td>0</td>\n",
       "    </tr>\n",
       "  </tbody>\n",
       "</table>\n",
       "</div>"
      ],
      "text/plain": [
       "   Inv_Id  Vendor_Code  GL_Code    Inv_Amt  \\\n",
       "0       1            0        0   6.973473   \n",
       "1       2            0        0  25.053841   \n",
       "2       3            1        0  53.573737   \n",
       "3       4            2        0  67.388827   \n",
       "4       5            2        0  74.262047   \n",
       "\n",
       "                                    Item_Description Product_Category  \\\n",
       "0  AETNA VARIABLE FUND - Apr-2002 - Store Managem...        CLASS-784   \n",
       "1  AETNA VARIABLE FUND - Nov-2000 - Store Managem...        CLASS-784   \n",
       "2  FAIRCHILD CORP - Nov-2001 - Store Management R...        CLASS-784   \n",
       "3  CALIFORNIA REAL ESTATE INVESTMENT TRUST - Aug-...        CLASS-784   \n",
       "4  CALIFORNIA REAL ESTATE INVESTMENT TRUST - Mar-...        CLASS-784   \n",
       "\n",
       "   item_description1  item_description2  \n",
       "0                  0                  0  \n",
       "1                  0                  0  \n",
       "2                  1                  0  \n",
       "3                  2                  0  \n",
       "4                  2                  0  "
      ]
     },
     "execution_count": 26,
     "metadata": {},
     "output_type": "execute_result"
    }
   ],
   "source": [
    "df_train.head()"
   ]
  },
  {
   "cell_type": "code",
   "execution_count": 27,
   "metadata": {},
   "outputs": [],
   "source": [
    "#Making test data ready\n",
    "#Let us create two new columns item_description1 and item_description2 from information from item_description\n",
    "df_test['item_description1']=df_test['Item_Description'][1].split(\"-\")[0]\n",
    "df_test['item_description2']=df_test['Item_Description'][1].split(\"-\")[3]"
   ]
  },
  {
   "cell_type": "code",
   "execution_count": 28,
   "metadata": {},
   "outputs": [
    {
     "data": {
      "text/html": [
       "<div>\n",
       "<style scoped>\n",
       "    .dataframe tbody tr th:only-of-type {\n",
       "        vertical-align: middle;\n",
       "    }\n",
       "\n",
       "    .dataframe tbody tr th {\n",
       "        vertical-align: top;\n",
       "    }\n",
       "\n",
       "    .dataframe thead th {\n",
       "        text-align: right;\n",
       "    }\n",
       "</style>\n",
       "<table border=\"1\" class=\"dataframe\">\n",
       "  <thead>\n",
       "    <tr style=\"text-align: right;\">\n",
       "      <th></th>\n",
       "      <th>Inv_Id</th>\n",
       "      <th>Vendor_Code</th>\n",
       "      <th>GL_Code</th>\n",
       "      <th>Inv_Amt</th>\n",
       "      <th>Item_Description</th>\n",
       "      <th>item_description1</th>\n",
       "      <th>item_description2</th>\n",
       "    </tr>\n",
       "  </thead>\n",
       "  <tbody>\n",
       "    <tr>\n",
       "      <th>0</th>\n",
       "      <td>6</td>\n",
       "      <td>VENDOR-1197</td>\n",
       "      <td>GL-6050100</td>\n",
       "      <td>10.916343</td>\n",
       "      <td>DESOTO INC - Jul-2008 - Store Management Real ...</td>\n",
       "      <td>CENTURY REALTY TRUST</td>\n",
       "      <td>Store Management Real Estate Real Estate Serv...</td>\n",
       "    </tr>\n",
       "    <tr>\n",
       "      <th>1</th>\n",
       "      <td>12</td>\n",
       "      <td>VENDOR-792</td>\n",
       "      <td>GL-6050100</td>\n",
       "      <td>38.658772</td>\n",
       "      <td>CENTURY REALTY TRUST - Nov-2019 - Store Manage...</td>\n",
       "      <td>CENTURY REALTY TRUST</td>\n",
       "      <td>Store Management Real Estate Real Estate Serv...</td>\n",
       "    </tr>\n",
       "    <tr>\n",
       "      <th>2</th>\n",
       "      <td>14</td>\n",
       "      <td>VENDOR-792</td>\n",
       "      <td>GL-6050100</td>\n",
       "      <td>46.780476</td>\n",
       "      <td>CENTURY REALTY TRUST - Jan-2006 - Store Manage...</td>\n",
       "      <td>CENTURY REALTY TRUST</td>\n",
       "      <td>Store Management Real Estate Real Estate Serv...</td>\n",
       "    </tr>\n",
       "    <tr>\n",
       "      <th>3</th>\n",
       "      <td>18</td>\n",
       "      <td>VENDOR-792</td>\n",
       "      <td>GL-6050100</td>\n",
       "      <td>7.058866</td>\n",
       "      <td>CENTURY REALTY TRUST - Sep-2002 - Store Manage...</td>\n",
       "      <td>CENTURY REALTY TRUST</td>\n",
       "      <td>Store Management Real Estate Real Estate Serv...</td>\n",
       "    </tr>\n",
       "    <tr>\n",
       "      <th>4</th>\n",
       "      <td>19</td>\n",
       "      <td>VENDOR-792</td>\n",
       "      <td>GL-6050100</td>\n",
       "      <td>32.931765</td>\n",
       "      <td>CENTURY REALTY TRUST - Nov-2018 - Store Manage...</td>\n",
       "      <td>CENTURY REALTY TRUST</td>\n",
       "      <td>Store Management Real Estate Real Estate Serv...</td>\n",
       "    </tr>\n",
       "  </tbody>\n",
       "</table>\n",
       "</div>"
      ],
      "text/plain": [
       "   Inv_Id  Vendor_Code     GL_Code    Inv_Amt  \\\n",
       "0       6  VENDOR-1197  GL-6050100  10.916343   \n",
       "1      12   VENDOR-792  GL-6050100  38.658772   \n",
       "2      14   VENDOR-792  GL-6050100  46.780476   \n",
       "3      18   VENDOR-792  GL-6050100   7.058866   \n",
       "4      19   VENDOR-792  GL-6050100  32.931765   \n",
       "\n",
       "                                    Item_Description      item_description1  \\\n",
       "0  DESOTO INC - Jul-2008 - Store Management Real ...  CENTURY REALTY TRUST    \n",
       "1  CENTURY REALTY TRUST - Nov-2019 - Store Manage...  CENTURY REALTY TRUST    \n",
       "2  CENTURY REALTY TRUST - Jan-2006 - Store Manage...  CENTURY REALTY TRUST    \n",
       "3  CENTURY REALTY TRUST - Sep-2002 - Store Manage...  CENTURY REALTY TRUST    \n",
       "4  CENTURY REALTY TRUST - Nov-2018 - Store Manage...  CENTURY REALTY TRUST    \n",
       "\n",
       "                                   item_description2  \n",
       "0   Store Management Real Estate Real Estate Serv...  \n",
       "1   Store Management Real Estate Real Estate Serv...  \n",
       "2   Store Management Real Estate Real Estate Serv...  \n",
       "3   Store Management Real Estate Real Estate Serv...  \n",
       "4   Store Management Real Estate Real Estate Serv...  "
      ]
     },
     "execution_count": 28,
     "metadata": {},
     "output_type": "execute_result"
    }
   ],
   "source": [
    "df_test.head()"
   ]
  },
  {
   "cell_type": "code",
   "execution_count": 37,
   "metadata": {},
   "outputs": [],
   "source": [
    "gl_code_unique_test=df_test['GL_Code'].unique()\n",
    "vendor_unique_test=df_test['Vendor_Code'].unique()"
   ]
  },
  {
   "cell_type": "code",
   "execution_count": 29,
   "metadata": {},
   "outputs": [
    {
     "name": "stderr",
     "output_type": "stream",
     "text": [
      "C:\\Users\\Mayank\\Anaconda3\\lib\\site-packages\\ipykernel_launcher.py:3: SettingWithCopyWarning: \n",
      "A value is trying to be set on a copy of a slice from a DataFrame\n",
      "\n",
      "See the caveats in the documentation: http://pandas.pydata.org/pandas-docs/stable/indexing.html#indexing-view-versus-copy\n",
      "  This is separate from the ipykernel package so we can avoid doing imports until\n"
     ]
    }
   ],
   "source": [
    "#set each column\n",
    "for i in range(0,len(df_test)):\n",
    "    df_test['item_description1'][i] = df_test['Item_Description'][i].split(\"-\")[0]"
   ]
  },
  {
   "cell_type": "code",
   "execution_count": 30,
   "metadata": {},
   "outputs": [
    {
     "name": "stderr",
     "output_type": "stream",
     "text": [
      "C:\\Users\\Mayank\\Anaconda3\\lib\\site-packages\\ipykernel_launcher.py:2: SettingWithCopyWarning: \n",
      "A value is trying to be set on a copy of a slice from a DataFrame\n",
      "\n",
      "See the caveats in the documentation: http://pandas.pydata.org/pandas-docs/stable/indexing.html#indexing-view-versus-copy\n",
      "  \n"
     ]
    }
   ],
   "source": [
    "for i in range(0,len(df_test)):\n",
    "    df_test['item_description2'][i] = df_test['Item_Description'][i].split(\"-\")[3]"
   ]
  },
  {
   "cell_type": "code",
   "execution_count": 31,
   "metadata": {},
   "outputs": [
    {
     "data": {
      "text/html": [
       "<div>\n",
       "<style scoped>\n",
       "    .dataframe tbody tr th:only-of-type {\n",
       "        vertical-align: middle;\n",
       "    }\n",
       "\n",
       "    .dataframe tbody tr th {\n",
       "        vertical-align: top;\n",
       "    }\n",
       "\n",
       "    .dataframe thead th {\n",
       "        text-align: right;\n",
       "    }\n",
       "</style>\n",
       "<table border=\"1\" class=\"dataframe\">\n",
       "  <thead>\n",
       "    <tr style=\"text-align: right;\">\n",
       "      <th></th>\n",
       "      <th>Inv_Id</th>\n",
       "      <th>Vendor_Code</th>\n",
       "      <th>GL_Code</th>\n",
       "      <th>Inv_Amt</th>\n",
       "      <th>Item_Description</th>\n",
       "      <th>Product_Category</th>\n",
       "      <th>item_description1</th>\n",
       "      <th>item_description2</th>\n",
       "    </tr>\n",
       "  </thead>\n",
       "  <tbody>\n",
       "    <tr>\n",
       "      <th>0</th>\n",
       "      <td>1</td>\n",
       "      <td>0</td>\n",
       "      <td>0</td>\n",
       "      <td>6.973473</td>\n",
       "      <td>AETNA VARIABLE FUND - Apr-2002 - Store Managem...</td>\n",
       "      <td>CLASS-784</td>\n",
       "      <td>0</td>\n",
       "      <td>0</td>\n",
       "    </tr>\n",
       "    <tr>\n",
       "      <th>1</th>\n",
       "      <td>2</td>\n",
       "      <td>0</td>\n",
       "      <td>0</td>\n",
       "      <td>25.053841</td>\n",
       "      <td>AETNA VARIABLE FUND - Nov-2000 - Store Managem...</td>\n",
       "      <td>CLASS-784</td>\n",
       "      <td>0</td>\n",
       "      <td>0</td>\n",
       "    </tr>\n",
       "    <tr>\n",
       "      <th>2</th>\n",
       "      <td>3</td>\n",
       "      <td>1</td>\n",
       "      <td>0</td>\n",
       "      <td>53.573737</td>\n",
       "      <td>FAIRCHILD CORP - Nov-2001 - Store Management R...</td>\n",
       "      <td>CLASS-784</td>\n",
       "      <td>1</td>\n",
       "      <td>0</td>\n",
       "    </tr>\n",
       "    <tr>\n",
       "      <th>3</th>\n",
       "      <td>4</td>\n",
       "      <td>2</td>\n",
       "      <td>0</td>\n",
       "      <td>67.388827</td>\n",
       "      <td>CALIFORNIA REAL ESTATE INVESTMENT TRUST - Aug-...</td>\n",
       "      <td>CLASS-784</td>\n",
       "      <td>2</td>\n",
       "      <td>0</td>\n",
       "    </tr>\n",
       "    <tr>\n",
       "      <th>4</th>\n",
       "      <td>5</td>\n",
       "      <td>2</td>\n",
       "      <td>0</td>\n",
       "      <td>74.262047</td>\n",
       "      <td>CALIFORNIA REAL ESTATE INVESTMENT TRUST - Mar-...</td>\n",
       "      <td>CLASS-784</td>\n",
       "      <td>2</td>\n",
       "      <td>0</td>\n",
       "    </tr>\n",
       "  </tbody>\n",
       "</table>\n",
       "</div>"
      ],
      "text/plain": [
       "   Inv_Id  Vendor_Code  GL_Code    Inv_Amt  \\\n",
       "0       1            0        0   6.973473   \n",
       "1       2            0        0  25.053841   \n",
       "2       3            1        0  53.573737   \n",
       "3       4            2        0  67.388827   \n",
       "4       5            2        0  74.262047   \n",
       "\n",
       "                                    Item_Description Product_Category  \\\n",
       "0  AETNA VARIABLE FUND - Apr-2002 - Store Managem...        CLASS-784   \n",
       "1  AETNA VARIABLE FUND - Nov-2000 - Store Managem...        CLASS-784   \n",
       "2  FAIRCHILD CORP - Nov-2001 - Store Management R...        CLASS-784   \n",
       "3  CALIFORNIA REAL ESTATE INVESTMENT TRUST - Aug-...        CLASS-784   \n",
       "4  CALIFORNIA REAL ESTATE INVESTMENT TRUST - Mar-...        CLASS-784   \n",
       "\n",
       "   item_description1  item_description2  \n",
       "0                  0                  0  \n",
       "1                  0                  0  \n",
       "2                  1                  0  \n",
       "3                  2                  0  \n",
       "4                  2                  0  "
      ]
     },
     "execution_count": 31,
     "metadata": {},
     "output_type": "execute_result"
    }
   ],
   "source": [
    "df_train.head()"
   ]
  },
  {
   "cell_type": "code",
   "execution_count": 36,
   "metadata": {},
   "outputs": [],
   "source": [
    "df_test['GL_Code']=df_test['GL_Code'].replace(gl_code_unique_test[0],0)\n",
    "df_test['GL_Code']=df_test['GL_Code'].replace(gl_code_unique_test[1],1)\n",
    "df_test['GL_Code']=df_test['GL_Code'].replace(gl_code_unique_test[2],2)\n",
    "df_test['GL_Code']=df_test['GL_Code'].replace(gl_code_unique_test[3],3)\n",
    "df_test['GL_Code']=df_test['GL_Code'].replace(gl_code_unique_test[4],4)\n",
    "df_test['GL_Code']=df_test['GL_Code'].replace(gl_code_unique_test[5],5)\n",
    "df_test['GL_Code']=df_test['GL_Code'].replace(gl_code_unique_test[6],6)\n",
    "df_test['GL_Code']=df_test['GL_Code'].replace(gl_code_unique_test[7],7)\n",
    "df_test['GL_Code']=df_test['GL_Code'].replace(gl_code_unique_test[8],8)"
   ]
  },
  {
   "cell_type": "code",
   "execution_count": 38,
   "metadata": {},
   "outputs": [],
   "source": [
    "des1_unique_test=df_test['item_description1'].unique()\n",
    "des2_unique_test=df_test['item_description2'].unique()"
   ]
  },
  {
   "cell_type": "code",
   "execution_count": 39,
   "metadata": {},
   "outputs": [],
   "source": [
    "for i in range(len(vendor_unique_test)):\n",
    "    df_test['Vendor_Code']=df_test['Vendor_Code'].replace(vendor_unique_test[i],i)\n",
    "for j in range(len(des2_unique_test)):\n",
    "    df_test['item_description2']=df_test['item_description2'].replace(des2_unique_test[j],j)\n",
    "for k in range(len(des1_unique_test)):\n",
    "    df_test['item_description1']=df_test['item_description1'].replace(des1_unique_test[k],k)"
   ]
  },
  {
   "cell_type": "code",
   "execution_count": 40,
   "metadata": {},
   "outputs": [
    {
     "data": {
      "text/html": [
       "<div>\n",
       "<style scoped>\n",
       "    .dataframe tbody tr th:only-of-type {\n",
       "        vertical-align: middle;\n",
       "    }\n",
       "\n",
       "    .dataframe tbody tr th {\n",
       "        vertical-align: top;\n",
       "    }\n",
       "\n",
       "    .dataframe thead th {\n",
       "        text-align: right;\n",
       "    }\n",
       "</style>\n",
       "<table border=\"1\" class=\"dataframe\">\n",
       "  <thead>\n",
       "    <tr style=\"text-align: right;\">\n",
       "      <th></th>\n",
       "      <th>Inv_Id</th>\n",
       "      <th>Vendor_Code</th>\n",
       "      <th>GL_Code</th>\n",
       "      <th>Inv_Amt</th>\n",
       "      <th>Item_Description</th>\n",
       "      <th>item_description1</th>\n",
       "      <th>item_description2</th>\n",
       "    </tr>\n",
       "  </thead>\n",
       "  <tbody>\n",
       "    <tr>\n",
       "      <th>0</th>\n",
       "      <td>6</td>\n",
       "      <td>0</td>\n",
       "      <td>0</td>\n",
       "      <td>10.916343</td>\n",
       "      <td>DESOTO INC - Jul-2008 - Store Management Real ...</td>\n",
       "      <td>0</td>\n",
       "      <td>0</td>\n",
       "    </tr>\n",
       "    <tr>\n",
       "      <th>1</th>\n",
       "      <td>12</td>\n",
       "      <td>1</td>\n",
       "      <td>0</td>\n",
       "      <td>38.658772</td>\n",
       "      <td>CENTURY REALTY TRUST - Nov-2019 - Store Manage...</td>\n",
       "      <td>1</td>\n",
       "      <td>0</td>\n",
       "    </tr>\n",
       "    <tr>\n",
       "      <th>2</th>\n",
       "      <td>14</td>\n",
       "      <td>1</td>\n",
       "      <td>0</td>\n",
       "      <td>46.780476</td>\n",
       "      <td>CENTURY REALTY TRUST - Jan-2006 - Store Manage...</td>\n",
       "      <td>1</td>\n",
       "      <td>0</td>\n",
       "    </tr>\n",
       "    <tr>\n",
       "      <th>3</th>\n",
       "      <td>18</td>\n",
       "      <td>1</td>\n",
       "      <td>0</td>\n",
       "      <td>7.058866</td>\n",
       "      <td>CENTURY REALTY TRUST - Sep-2002 - Store Manage...</td>\n",
       "      <td>1</td>\n",
       "      <td>0</td>\n",
       "    </tr>\n",
       "    <tr>\n",
       "      <th>4</th>\n",
       "      <td>19</td>\n",
       "      <td>1</td>\n",
       "      <td>0</td>\n",
       "      <td>32.931765</td>\n",
       "      <td>CENTURY REALTY TRUST - Nov-2018 - Store Manage...</td>\n",
       "      <td>1</td>\n",
       "      <td>0</td>\n",
       "    </tr>\n",
       "  </tbody>\n",
       "</table>\n",
       "</div>"
      ],
      "text/plain": [
       "   Inv_Id  Vendor_Code  GL_Code    Inv_Amt  \\\n",
       "0       6            0        0  10.916343   \n",
       "1      12            1        0  38.658772   \n",
       "2      14            1        0  46.780476   \n",
       "3      18            1        0   7.058866   \n",
       "4      19            1        0  32.931765   \n",
       "\n",
       "                                    Item_Description  item_description1  \\\n",
       "0  DESOTO INC - Jul-2008 - Store Management Real ...                  0   \n",
       "1  CENTURY REALTY TRUST - Nov-2019 - Store Manage...                  1   \n",
       "2  CENTURY REALTY TRUST - Jan-2006 - Store Manage...                  1   \n",
       "3  CENTURY REALTY TRUST - Sep-2002 - Store Manage...                  1   \n",
       "4  CENTURY REALTY TRUST - Nov-2018 - Store Manage...                  1   \n",
       "\n",
       "   item_description2  \n",
       "0                  0  \n",
       "1                  0  \n",
       "2                  0  \n",
       "3                  0  \n",
       "4                  0  "
      ]
     },
     "execution_count": 40,
     "metadata": {},
     "output_type": "execute_result"
    }
   ],
   "source": [
    "df_test.head()"
   ]
  },
  {
   "cell_type": "code",
   "execution_count": 41,
   "metadata": {},
   "outputs": [],
   "source": [
    "X=df_train.drop([\"Inv_Amt\",\"Inv_Id\",\"Item_Description\"],axis=1)"
   ]
  },
  {
   "cell_type": "code",
   "execution_count": 42,
   "metadata": {},
   "outputs": [
    {
     "data": {
      "text/html": [
       "<div>\n",
       "<style scoped>\n",
       "    .dataframe tbody tr th:only-of-type {\n",
       "        vertical-align: middle;\n",
       "    }\n",
       "\n",
       "    .dataframe tbody tr th {\n",
       "        vertical-align: top;\n",
       "    }\n",
       "\n",
       "    .dataframe thead th {\n",
       "        text-align: right;\n",
       "    }\n",
       "</style>\n",
       "<table border=\"1\" class=\"dataframe\">\n",
       "  <thead>\n",
       "    <tr style=\"text-align: right;\">\n",
       "      <th></th>\n",
       "      <th>Vendor_Code</th>\n",
       "      <th>GL_Code</th>\n",
       "      <th>Product_Category</th>\n",
       "      <th>item_description1</th>\n",
       "      <th>item_description2</th>\n",
       "    </tr>\n",
       "  </thead>\n",
       "  <tbody>\n",
       "    <tr>\n",
       "      <th>0</th>\n",
       "      <td>0</td>\n",
       "      <td>0</td>\n",
       "      <td>CLASS-784</td>\n",
       "      <td>0</td>\n",
       "      <td>0</td>\n",
       "    </tr>\n",
       "    <tr>\n",
       "      <th>1</th>\n",
       "      <td>0</td>\n",
       "      <td>0</td>\n",
       "      <td>CLASS-784</td>\n",
       "      <td>0</td>\n",
       "      <td>0</td>\n",
       "    </tr>\n",
       "    <tr>\n",
       "      <th>2</th>\n",
       "      <td>1</td>\n",
       "      <td>0</td>\n",
       "      <td>CLASS-784</td>\n",
       "      <td>1</td>\n",
       "      <td>0</td>\n",
       "    </tr>\n",
       "    <tr>\n",
       "      <th>3</th>\n",
       "      <td>2</td>\n",
       "      <td>0</td>\n",
       "      <td>CLASS-784</td>\n",
       "      <td>2</td>\n",
       "      <td>0</td>\n",
       "    </tr>\n",
       "    <tr>\n",
       "      <th>4</th>\n",
       "      <td>2</td>\n",
       "      <td>0</td>\n",
       "      <td>CLASS-784</td>\n",
       "      <td>2</td>\n",
       "      <td>0</td>\n",
       "    </tr>\n",
       "  </tbody>\n",
       "</table>\n",
       "</div>"
      ],
      "text/plain": [
       "   Vendor_Code  GL_Code Product_Category  item_description1  item_description2\n",
       "0            0        0        CLASS-784                  0                  0\n",
       "1            0        0        CLASS-784                  0                  0\n",
       "2            1        0        CLASS-784                  1                  0\n",
       "3            2        0        CLASS-784                  2                  0\n",
       "4            2        0        CLASS-784                  2                  0"
      ]
     },
     "execution_count": 42,
     "metadata": {},
     "output_type": "execute_result"
    }
   ],
   "source": [
    "X.head()"
   ]
  },
  {
   "cell_type": "code",
   "execution_count": 43,
   "metadata": {},
   "outputs": [
    {
     "data": {
      "text/plain": [
       "((5719, 4), (5719,), (2292, 4))"
      ]
     },
     "execution_count": 43,
     "metadata": {},
     "output_type": "execute_result"
    }
   ],
   "source": [
    "X_train = X.drop(\"Product_Category\", axis=1)\n",
    "Y_train = X[\"Product_Category\"]\n",
    "X_test  = df_test.drop([\"Inv_Amt\",\"Inv_Id\",\"Item_Description\"], axis=1).copy()\n",
    "X_train.shape, Y_train.shape, X_test.shape"
   ]
  },
  {
   "cell_type": "code",
   "execution_count": 49,
   "metadata": {},
   "outputs": [
    {
     "name": "stderr",
     "output_type": "stream",
     "text": [
      "C:\\Users\\Mayank\\Anaconda3\\lib\\site-packages\\sklearn\\svm\\base.py:193: FutureWarning: The default value of gamma will change from 'auto' to 'scale' in version 0.22 to account better for unscaled features. Set gamma explicitly to 'auto' or 'scale' to avoid this warning.\n",
      "  \"avoid this warning.\", FutureWarning)\n"
     ]
    },
    {
     "data": {
      "text/plain": [
       "99.79"
      ]
     },
     "execution_count": 49,
     "metadata": {},
     "output_type": "execute_result"
    }
   ],
   "source": [
    "# support vector machine\n",
    "svc=SVC()\n",
    "svc.fit(X_train, Y_train)\n",
    "Y_pred = svc.predict(X_test)\n",
    "acc_svc = round(svc.score(X_train, Y_train) * 100, 2)\n",
    "acc_svc"
   ]
  },
  {
   "cell_type": "code",
   "execution_count": 50,
   "metadata": {},
   "outputs": [
    {
     "data": {
      "text/plain": [
       "array(['CLASS-784', 'CLASS-784', 'CLASS-784', ..., 'CLASS-75', 'CLASS-75',\n",
       "       'CLASS-75'], dtype=object)"
      ]
     },
     "execution_count": 50,
     "metadata": {},
     "output_type": "execute_result"
    }
   ],
   "source": [
    "Y_pred"
   ]
  },
  {
   "cell_type": "code",
   "execution_count": 51,
   "metadata": {},
   "outputs": [],
   "source": [
    "submission = pd.DataFrame({\n",
    "        \"Inv_Id\": df_test[\"Inv_Id\"],\n",
    "        \"Product_Category\": Y_pred\n",
    "    })\n",
    "submission.to_csv('submission_hack.csv', encoding='utf-8', index=False)"
   ]
  },
  {
   "cell_type": "code",
   "execution_count": null,
   "metadata": {},
   "outputs": [],
   "source": []
  }
 ],
 "metadata": {
  "kernelspec": {
   "display_name": "Python 3",
   "language": "python",
   "name": "python3"
  },
  "language_info": {
   "codemirror_mode": {
    "name": "ipython",
    "version": 3
   },
   "file_extension": ".py",
   "mimetype": "text/x-python",
   "name": "python",
   "nbconvert_exporter": "python",
   "pygments_lexer": "ipython3",
   "version": "3.6.8"
  }
 },
 "nbformat": 4,
 "nbformat_minor": 2
}
